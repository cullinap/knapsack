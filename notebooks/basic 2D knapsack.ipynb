{
 "cells": [
  {
   "cell_type": "code",
   "execution_count": 1,
   "metadata": {},
   "outputs": [],
   "source": [
    "class Knapsack():\n",
    "        \n",
    "    def __init__(self, max_weight, max_volume, df):\n",
    "        self.weights = [weight for weight in df['weights']]\n",
    "        self.volumes = [vol for vol in df['volumes']]\n",
    "        self.values = [val for val in df['values']]\n",
    "        self.state_weight = [i for i in range(max_weight+1)]\n",
    "        self.state_volume = [i for i in range(max_volume+1)]\n",
    "        \n",
    "                \n",
    "    def knap_sack(self, max_weight, max_volume, rounds):\n",
    "            \n",
    "        if rounds == 0:\n",
    "            weight_condition = max_weight >= self.state_weight[max_weight] >= self.weights[rounds]\n",
    "            volume_condition = max_volume >= self.state_volume[max_volume] >= self.volumes[rounds]\n",
    "            penalty = -9999.99\n",
    "                 \n",
    "            result = max(0, (self.values[rounds] if weight_condition and volume_condition else penalty))\n",
    "\n",
    "        elif self.state_weight[max_weight] < self.weights[rounds] or \\\n",
    "                self.state_volume[max_volume] < self.volumes[rounds]:\n",
    "\n",
    "            result = self.knap_sack(self.state_weight[max_weight],self.state_volume[max_volume],rounds-1)\n",
    "\n",
    "        else:\n",
    "            tmp3 = self.knap_sack(self.state_weight[max_weight],self.state_volume[max_volume],rounds-1)\n",
    "            \n",
    "            tmp4_weight = self.state_weight[max_weight] - self.weights[rounds]\n",
    "            tmp4_volumes = self.state_volume[max_volume] - self.volumes[rounds]\n",
    "            tmp4 = self.values[rounds] + self.knap_sack(tmp4_weight,tmp4_volumes,rounds-1)\n",
    "            \n",
    "            print((rounds,[max_weight,max_volume,self.values[rounds],self.weights[rounds],self.volumes[rounds]]))\n",
    "\n",
    "            result = max(tmp3, tmp4)\n",
    "\n",
    "        return result\n",
    "    \n",
    "    "
   ]
  },
  {
   "cell_type": "code",
   "execution_count": 2,
   "metadata": {},
   "outputs": [],
   "source": [
    "import pandas as pd\n",
    "\n",
    "data_ = {'values': [2,3,3,4,4,5], \n",
    "         'weights': [1,2,1,3,2,3],\n",
    "         'volumes': [2,1,3,2,2,3],\n",
    "         'radioactive': [3,1,3,2,1,2]\n",
    "        }\n",
    "\n",
    "df = pd.DataFrame.from_dict(data_)"
   ]
  },
  {
   "cell_type": "code",
   "execution_count": 3,
   "metadata": {
    "scrolled": false
   },
   "outputs": [
    {
     "name": "stdout",
     "output_type": "stream",
     "text": [
      "================================================== max value: 2\n",
      "(1, [6, 4, 3, 2, 1])\n",
      "================================================== max value: 5\n",
      "(1, [6, 4, 3, 2, 1])\n",
      "(1, [5, 1, 3, 2, 1])\n",
      "(2, [6, 4, 3, 1, 3])\n",
      "================================================== max value: 6\n",
      "(1, [6, 4, 3, 2, 1])\n",
      "(1, [5, 1, 3, 2, 1])\n",
      "(2, [6, 4, 3, 1, 3])\n",
      "(1, [3, 2, 3, 2, 1])\n",
      "(3, [6, 4, 4, 3, 2])\n",
      "================================================== max value: 7\n",
      "(1, [6, 4, 3, 2, 1])\n",
      "(1, [5, 1, 3, 2, 1])\n",
      "(2, [6, 4, 3, 1, 3])\n",
      "(1, [3, 2, 3, 2, 1])\n",
      "(3, [6, 4, 4, 3, 2])\n",
      "(1, [4, 2, 3, 2, 1])\n",
      "(3, [4, 2, 4, 3, 2])\n",
      "(4, [6, 4, 4, 2, 2])\n",
      "================================================== max value: 8\n",
      "(1, [6, 4, 3, 2, 1])\n",
      "(1, [5, 1, 3, 2, 1])\n",
      "(2, [6, 4, 3, 1, 3])\n",
      "(1, [3, 2, 3, 2, 1])\n",
      "(3, [6, 4, 4, 3, 2])\n",
      "(1, [4, 2, 3, 2, 1])\n",
      "(3, [4, 2, 4, 3, 2])\n",
      "(4, [6, 4, 4, 2, 2])\n",
      "(1, [3, 1, 3, 2, 1])\n",
      "(5, [6, 4, 5, 3, 3])\n",
      "================================================== max value: 8\n"
     ]
    }
   ],
   "source": [
    "x=Knapsack(6,4, df)\n",
    "FAT_BAR = \"=\"*50\n",
    "\n",
    "for i in range(6):\n",
    "    print(f\"{FAT_BAR} max value: {x.knap_sack(6,4,i)}\")"
   ]
  },
  {
   "cell_type": "code",
   "execution_count": null,
   "metadata": {},
   "outputs": [],
   "source": []
  }
 ],
 "metadata": {
  "kernelspec": {
   "display_name": "Python (fast_ai)",
   "language": "python",
   "name": "fast_ai"
  },
  "language_info": {
   "codemirror_mode": {
    "name": "ipython",
    "version": 3
   },
   "file_extension": ".py",
   "mimetype": "text/x-python",
   "name": "python",
   "nbconvert_exporter": "python",
   "pygments_lexer": "ipython3",
   "version": "3.7.3"
  }
 },
 "nbformat": 4,
 "nbformat_minor": 2
}
